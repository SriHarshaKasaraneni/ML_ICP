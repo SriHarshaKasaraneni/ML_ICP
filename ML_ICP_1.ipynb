{
  "cells": [
    {
      "cell_type": "markdown",
      "source": [
        "**Sri Harsha Kasaraneni-700755577**"
      ],
      "metadata": {
        "id": "P6Yat8rlzgT0"
      }
    },
    {
      "cell_type": "code",
      "execution_count": 1,
      "metadata": {
        "id": "zwFnJsE6vjf8",
        "outputId": "ee510de2-d0a6-464a-df8a-c60812b936bb",
        "colab": {
          "base_uri": "https://localhost:8080/",
          "height": 0
        }
      },
      "outputs": [
        {
          "output_type": "stream",
          "name": "stdout",
          "text": [
            "Sorted ages: [19, 19, 20, 22, 24, 24, 24, 25, 25, 26, 19, 26]\n",
            "Minimum age: 19\n",
            "Maximum age: 26\n",
            "Median age: 24.0\n",
            "Average age: 22.75\n",
            "Age range: 7\n"
          ]
        }
      ],
      "source": [
        "# Given list of ages\n",
        "ages = [19, 22, 19, 24, 20, 25, 26, 24, 25, 24]\n",
        "\n",
        "# Sort the list\n",
        "ages.sort()\n",
        "\n",
        "# Find the minimum and maximum age\n",
        "min_age = min(ages)\n",
        "max_age = max(ages)\n",
        "\n",
        "# Add the minimum and maximum age to the list\n",
        "ages.append(min_age)\n",
        "ages.append(max_age)\n",
        "\n",
        "# Find the median age\n",
        "median_age = (ages[len(ages) // 2 - 1] + ages[len(ages) // 2]) / 2 if len(ages) % 2 == 0 else ages[len(ages) // 2]\n",
        "\n",
        "# Find the average age\n",
        "average_age = sum(ages) / len(ages)\n",
        "\n",
        "# Find the range of ages\n",
        "age_range = max_age - min_age\n",
        "\n",
        "# Printing the results\n",
        "print(f\"Sorted ages: {ages}\")\n",
        "print(f\"Minimum age: {min_age}\")\n",
        "print(f\"Maximum age: {max_age}\")\n",
        "print(f\"Median age: {median_age}\")\n",
        "print(f\"Average age: {average_age}\")\n",
        "print(f\"Age range: {age_range}\")\n"
      ]
    },
    {
      "cell_type": "markdown",
      "source": [
        "# Question 2"
      ],
      "metadata": {
        "id": "JG9zhclDwaiz"
      }
    },
    {
      "cell_type": "code",
      "source": [
        "# Create an empty dictionary called dog\n",
        "dog = {}\n",
        "\n",
        "# Add attributes to the dog dictionary\n",
        "dog['name'] = 'Buddy'\n",
        "dog['color'] = 'Brown'\n",
        "dog['breed'] = 'Labrador'\n",
        "dog['legs'] = 4\n",
        "dog['age'] = 5\n",
        "\n",
        "# Create a student dictionary\n",
        "student = {\n",
        "    'first_name': 'John',\n",
        "    'last_name': 'Doe',\n",
        "    'gender': 'Male',\n",
        "    'age': 22,\n",
        "    'marital_status': 'Single',\n",
        "    'skills': ['Python', 'Java'],\n",
        "    'country': 'USA',\n",
        "    'city': 'New York',\n",
        "    'address': '123 Main St'\n",
        "}\n",
        "\n",
        "# Get the length of the student dictionary\n",
        "length_of_student = len(student)\n",
        "\n",
        "# Get the value of skills and check the data type\n",
        "skills = student['skills']\n",
        "skills_type = type(skills)\n",
        "\n",
        "# Modify the skills values by adding one or two skills\n",
        "student['skills'].extend(['C#', 'SQL'])\n",
        "\n",
        "# Get the dictionary keys as a list\n",
        "student_keys = list(student.keys())\n",
        "\n",
        "# Get the dictionary values as a list\n",
        "student_values = list(student.values())\n",
        "\n",
        "# Printing the results\n",
        "print(f\"Dog dictionary: {dog}\")\n",
        "print(f\"Student dictionary: {student}\")\n",
        "print(f\"Length of student dictionary: {length_of_student}\")\n",
        "print(f\"Skills: {skills}, Type of skills: {skills_type}\")\n",
        "print(f\"Updated skills: {student['skills']}\")\n",
        "print(f\"Student dictionary keys: {student_keys}\")\n",
        "print(f\"Student dictionary values: {student_values}\")\n"
      ],
      "metadata": {
        "id": "8E_zBl9AwcJk",
        "outputId": "9fac5740-c59d-4ee7-87d0-96aacc06cb3b",
        "colab": {
          "base_uri": "https://localhost:8080/",
          "height": 0
        }
      },
      "execution_count": 4,
      "outputs": [
        {
          "output_type": "stream",
          "name": "stdout",
          "text": [
            "Dog dictionary: {'name': 'Buddy', 'color': 'Brown', 'breed': 'Labrador', 'legs': 4, 'age': 5}\n",
            "Student dictionary: {'first_name': 'John', 'last_name': 'Doe', 'gender': 'Male', 'age': 22, 'marital_status': 'Single', 'skills': ['Python', 'Java', 'C#', 'SQL'], 'country': 'USA', 'city': 'New York', 'address': '123 Main St'}\n",
            "Length of student dictionary: 9\n",
            "Skills: ['Python', 'Java', 'C#', 'SQL'], Type of skills: <class 'list'>\n",
            "Updated skills: ['Python', 'Java', 'C#', 'SQL']\n",
            "Student dictionary keys: ['first_name', 'last_name', 'gender', 'age', 'marital_status', 'skills', 'country', 'city', 'address']\n",
            "Student dictionary values: ['John', 'Doe', 'Male', 22, 'Single', ['Python', 'Java', 'C#', 'SQL'], 'USA', 'New York', '123 Main St']\n"
          ]
        }
      ]
    },
    {
      "cell_type": "code",
      "source": [],
      "metadata": {
        "id": "bE2fJEG_xJYl"
      },
      "execution_count": null,
      "outputs": []
    },
    {
      "cell_type": "markdown",
      "source": [
        "# Question 3\n"
      ],
      "metadata": {
        "id": "7P2QBotrxKtM"
      }
    },
    {
      "cell_type": "code",
      "source": [
        "# Create tuples for siblings\n",
        "sisters = ('Anna', 'Ella')\n",
        "brothers = ('Mike', 'John')\n",
        "\n",
        "# Join brothers and sisters tuples and assign it to siblings\n",
        "siblings = sisters + brothers\n",
        "\n",
        "# Count the number of siblings\n",
        "num_siblings = len(siblings)\n",
        "\n",
        "# Modify the siblings tuple to include parents\n",
        "family_members = siblings + ('Father', 'Mother')\n",
        "\n",
        "# Printing the results\n",
        "print(f\"Siblings: {siblings}\")\n",
        "print(f\"Number of siblings: {num_siblings}\")\n",
        "print(f\"Family members: {family_members}\")\n"
      ],
      "metadata": {
        "id": "YXRUnjoNxO3K",
        "outputId": "e6c62ed7-952d-48b9-96d8-d01b11eb041a",
        "colab": {
          "base_uri": "https://localhost:8080/"
        }
      },
      "execution_count": 5,
      "outputs": [
        {
          "output_type": "stream",
          "name": "stdout",
          "text": [
            "Siblings: ('Anna', 'Ella', 'Mike', 'John')\n",
            "Number of siblings: 4\n",
            "Family members: ('Anna', 'Ella', 'Mike', 'John', 'Father', 'Mother')\n"
          ]
        }
      ]
    },
    {
      "cell_type": "markdown",
      "source": [
        "# Question 4"
      ],
      "metadata": {
        "id": "aAngpqzKxb4X"
      }
    },
    {
      "cell_type": "code",
      "source": [
        "# Define the sets\n",
        "it_companies = {'Facebook', 'Google', 'Microsoft', 'Apple', 'IBM', 'Oracle', 'Amazon'}\n",
        "A = {19, 22, 24, 20, 25, 26}\n",
        "B = {19, 22, 20, 25, 26, 24, 28, 27}\n",
        "age = [22, 19, 24, 25, 26, 24, 25, 24]\n",
        "\n",
        "# Find the length of the set it_companies\n",
        "length_it_companies = len(it_companies)\n",
        "\n",
        "# Add 'Twitter' to it_companies\n",
        "it_companies.add('Twitter')\n",
        "\n",
        "# Insert multiple IT companies at once\n",
        "it_companies.update(['Spotify', 'Netflix'])\n",
        "\n",
        "# Remove one of the companies from the set\n",
        "it_companies.discard('Oracle')  # or it_companies.remove('Oracle')\n",
        "\n",
        "# Difference between remove and discard: 'remove' will raise an error if the element doesn't exist, 'discard' will not.\n",
        "\n",
        "# Join A and B\n",
        "A_union_B = A.union(B)\n",
        "\n",
        "# Find A intersection B\n",
        "A_intersection_B = A.intersection(B)\n",
        "\n",
        "# Is A subset of B\n",
        "A_subset_B = A.issubset(B)\n",
        "\n",
        "# Are A and B disjoint sets\n",
        "A_disjoint_B = A.isdisjoint(B)\n",
        "\n",
        "# Join A with B and B with A\n",
        "A_union_B = A.union(B)\n",
        "B_union_A = B.union(A)\n",
        "\n",
        "# Symmetric difference between A and B\n",
        "A_sym_diff_B = A.symmetric_difference(B)\n",
        "\n",
        "# Delete the sets completely\n",
        "del A, B\n",
        "\n",
        "# Convert the ages list to a set and compare the length of the list and the set\n",
        "age_set = set(age)\n",
        "age_list_length = len(age)\n",
        "age_set_length = len(age_set)\n",
        "\n",
        "# Printing the results\n",
        "print(f\"IT companies: {it_companies}\")\n",
        "print(f\"Length of IT companies set: {length_it_companies}\")\n",
        "print(f\"A union B: {A_union_B}\")\n",
        "print(f\"A intersection B: {A_intersection_B}\")\n",
        "print(f\"Is A subset of B: {A_subset_B}\")\n",
        "print(f\"Are A and B disjoint: {A_disjoint_B}\")\n",
        "print(f\"Symmetric difference between A and B: {A_sym_diff_B}\")\n",
        "print(f\"Length of age list: {age_list_length}, Length of age set: {age_set_length}\")\n"
      ],
      "metadata": {
        "id": "PeJ-ertpxfWB",
        "outputId": "0f7b2f8f-32fa-4dc0-bb24-e26e46aa641a",
        "colab": {
          "base_uri": "https://localhost:8080/"
        }
      },
      "execution_count": 9,
      "outputs": [
        {
          "output_type": "stream",
          "name": "stdout",
          "text": [
            "IT companies: {'IBM', 'Apple', 'Facebook', 'Amazon', 'Microsoft', 'Google', 'Twitter', 'Spotify', 'Netflix'}\n",
            "Length of IT companies set: 7\n",
            "A union B: {19, 20, 22, 24, 25, 26, 27, 28}\n",
            "A intersection B: {19, 20, 22, 24, 25, 26}\n",
            "Is A subset of B: True\n",
            "Are A and B disjoint: False\n",
            "Symmetric difference between A and B: {27, 28}\n",
            "Length of age list: 8, Length of age set: 5\n"
          ]
        }
      ]
    },
    {
      "cell_type": "markdown",
      "source": [
        "# Question 5"
      ],
      "metadata": {
        "id": "awdbnW58xu_V"
      }
    },
    {
      "cell_type": "code",
      "source": [
        "import math\n",
        "\n",
        "# Given radius\n",
        "radius = 30\n",
        "\n",
        "# Calculate the area of the circle\n",
        "_area_of_circle_ = math.pi * radius ** 2\n",
        "\n",
        "# Calculate the circumference of the circle\n",
        "_circum_of_circle_ = 2 * math.pi * radius\n",
        "\n",
        "# Take radius as user input and calculate the area\n",
        "user_radius = float(input(\"Enter the radius: \"))\n",
        "user_area_of_circle = math.pi * user_radius ** 2\n",
        "\n",
        "# Printing the results\n",
        "print(f\"Area of the circle: {_area_of_circle_}\")\n",
        "print(f\"Circumference of the circle: {_circum_of_circle_}\")\n",
        "print(f\"User-provided radius area of the circle: {user_area_of_circle}\")\n"
      ],
      "metadata": {
        "id": "XYAT7w01x4hc",
        "outputId": "86edc0a1-397a-42cb-fc9a-bf44d5ea4a34",
        "colab": {
          "base_uri": "https://localhost:8080/"
        }
      },
      "execution_count": 7,
      "outputs": [
        {
          "output_type": "stream",
          "name": "stdout",
          "text": [
            "Enter the radius: 3\n",
            "Area of the circle: 2827.4333882308138\n",
            "Circumference of the circle: 188.49555921538757\n",
            "User-provided radius area of the circle: 28.274333882308138\n"
          ]
        }
      ]
    },
    {
      "cell_type": "markdown",
      "source": [
        "# Question 6"
      ],
      "metadata": {
        "id": "BfYuU89hyFsf"
      }
    },
    {
      "cell_type": "code",
      "source": [
        "sentence = \"I am a teacher and I love to inspire and teach people\"\n",
        "\n",
        "# Split the sentence into words and find unique words\n",
        "unique_words = set(sentence.split())\n",
        "\n",
        "# Count the number of unique words\n",
        "unique_word_count = len(unique_words)\n",
        "\n",
        "# Printing the result\n",
        "print(f\"Unique words: {unique_words}\")\n",
        "print(f\"Number of unique words: {unique_word_count}\")\n"
      ],
      "metadata": {
        "id": "BqPfs-WtyI09",
        "outputId": "e13261f8-2558-4e7b-eb2b-49e1545bfd75",
        "colab": {
          "base_uri": "https://localhost:8080/"
        }
      },
      "execution_count": 8,
      "outputs": [
        {
          "output_type": "stream",
          "name": "stdout",
          "text": [
            "Unique words: {'inspire', 'and', 'love', 'teach', 'I', 'am', 'a', 'to', 'teacher', 'people'}\n",
            "Number of unique words: 10\n"
          ]
        }
      ]
    },
    {
      "cell_type": "markdown",
      "source": [
        "# Question 7"
      ],
      "metadata": {
        "id": "HFtY23U4yiqC"
      }
    },
    {
      "cell_type": "code",
      "source": [
        "print(\"Name\\tAge\\tCountry\\tCity\")\n",
        "print(\"Asabeneh\\t250\\tFinland\\tHelsinki\")\n"
      ],
      "metadata": {
        "id": "6EpmQVY3yl-E",
        "outputId": "b238729d-4f43-40ca-f567-0db25eb81241",
        "colab": {
          "base_uri": "https://localhost:8080/"
        }
      },
      "execution_count": 10,
      "outputs": [
        {
          "output_type": "stream",
          "name": "stdout",
          "text": [
            "Name\tAge\tCountry\tCity\n",
            "Asabeneh\t250\tFinland\tHelsinki\n"
          ]
        }
      ]
    },
    {
      "cell_type": "markdown",
      "source": [
        "# Question 8"
      ],
      "metadata": {
        "id": "Z42cbAGSyzSI"
      }
    },
    {
      "cell_type": "code",
      "source": [
        "radius = 10\n",
        "area = 3.14 * radius ** 2\n",
        "formatted_string = f\"The area of a circle with radius {radius} is {area} meters square.\"\n",
        "\n",
        "# Printing the result\n",
        "print(formatted_string)\n"
      ],
      "metadata": {
        "id": "b2755pYEy5AX",
        "outputId": "3ba471f6-8885-4ce2-f0e1-88a5d9806bd4",
        "colab": {
          "base_uri": "https://localhost:8080/"
        }
      },
      "execution_count": 11,
      "outputs": [
        {
          "output_type": "stream",
          "name": "stdout",
          "text": [
            "The area of a circle with radius 10 is 314.0 meters square.\n"
          ]
        }
      ]
    },
    {
      "cell_type": "markdown",
      "source": [
        "# Question 9"
      ],
      "metadata": {
        "id": "yxceE6z6y_sa"
      }
    },
    {
      "cell_type": "code",
      "source": [
        "# Read number of students\n",
        "N = int(input(\"Enter the number of students: \"))\n",
        "\n",
        "# Read weights in lbs\n",
        "weights_lbs = [float(input(f\"Enter weight for student {i+1}: \")) for i in range(N)]\n",
        "\n",
        "# Convert weights to kilograms\n",
        "weights_kgs = [round(weight * 0.453592, 2) for weight in weights_lbs]\n",
        "\n",
        "# Printing the results\n",
        "print(f\"Weights in lbs: {weights_lbs}\")\n",
        "print(f\"Weights in kgs: {weights_kgs}\")\n"
      ],
      "metadata": {
        "id": "5px9Bo2ZzCt7",
        "outputId": "2267c990-c102-46b8-8eaa-b283c0642ac7",
        "colab": {
          "base_uri": "https://localhost:8080/"
        }
      },
      "execution_count": 12,
      "outputs": [
        {
          "output_type": "stream",
          "name": "stdout",
          "text": [
            "Enter the number of students: 5\n",
            "Enter weight for student 1: 55\n",
            "Enter weight for student 2: 50\n",
            "Enter weight for student 3: 35\n",
            "Enter weight for student 4: 64\n",
            "Enter weight for student 5: 44\n",
            "Weights in lbs: [55.0, 50.0, 35.0, 64.0, 44.0]\n",
            "Weights in kgs: [24.95, 22.68, 15.88, 29.03, 19.96]\n"
          ]
        }
      ]
    },
    {
      "cell_type": "markdown",
      "source": [],
      "metadata": {
        "id": "A5O0ZQSuzeWZ"
      }
    }
  ],
  "metadata": {
    "colab": {
      "name": "Welcome To Colab",
      "toc_visible": true,
      "provenance": []
    },
    "kernelspec": {
      "display_name": "Python 3",
      "name": "python3"
    }
  },
  "nbformat": 4,
  "nbformat_minor": 0
}