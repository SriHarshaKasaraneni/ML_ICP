{
  "nbformat": 4,
  "nbformat_minor": 0,
  "metadata": {
    "colab": {
      "provenance": []
    },
    "kernelspec": {
      "name": "python3",
      "display_name": "Python 3"
    },
    "language_info": {
      "name": "python"
    }
  },
  "cells": [
    {
      "cell_type": "markdown",
      "source": [
        "A"
      ],
      "metadata": {
        "id": "7q1-g-dT3_BS"
      }
    },
    {
      "cell_type": "code",
      "source": [
        "import numpy as np\n",
        "\n",
        "# Task a\n",
        "# Step 1: Create random vector\n",
        "vector = np.random.randint(1, 21, size=15)\n",
        "print(\"Original Vector:\\n\", vector)\n",
        "\n",
        "# Step 2: Reshape to 3 by 5\n",
        "reshaped_vector = vector.reshape(3, 5)\n",
        "print(\"Reshaped Array:\\n\", reshaped_vector)\n",
        "\n",
        "# Step 3: Print array shape\n",
        "print(\"Array Shape:\", reshaped_vector.shape)\n",
        "\n",
        "# Step 4: Replace the max in each row with 0\n",
        "for row in reshaped_vector:\n",
        "    row[np.argmax(row)] = 0\n",
        "print(\"Modified Array with max replaced by 0:\\n\", reshaped_vector)\n",
        "\n",
        "# Create a 2-dimensional array of size 4x3 composed of 4-byte integer elements\n",
        "array_2d = np.random.randint(1, 100, size=(4, 3), dtype=np.int32)\n",
        "print(\"2D Array:\\n\", array_2d)\n",
        "print(\"Shape:\", array_2d.shape)\n",
        "print(\"Type:\", type(array_2d))\n",
        "print(\"Data Type:\", array_2d.dtype)"
      ],
      "metadata": {
        "colab": {
          "base_uri": "https://localhost:8080/"
        },
        "id": "ButInmeD5d0d",
        "outputId": "36de38e0-6598-4237-ed41-12db7729007b"
      },
      "execution_count": 3,
      "outputs": [
        {
          "output_type": "stream",
          "name": "stdout",
          "text": [
            "Original Vector:\n",
            " [ 4  9 16 15 12 14  4 10  9 11 12 16  7 10 11]\n",
            "Reshaped Array:\n",
            " [[ 4  9 16 15 12]\n",
            " [14  4 10  9 11]\n",
            " [12 16  7 10 11]]\n",
            "Array Shape: (3, 5)\n",
            "Modified Array with max replaced by 0:\n",
            " [[ 4  9  0 15 12]\n",
            " [ 0  4 10  9 11]\n",
            " [12  0  7 10 11]]\n",
            "2D Array:\n",
            " [[99 21 96]\n",
            " [89 20 19]\n",
            " [22 48 15]\n",
            " [95 29 97]]\n",
            "Shape: (4, 3)\n",
            "Type: <class 'numpy.ndarray'>\n",
            "Data Type: int32\n"
          ]
        }
      ]
    },
    {
      "cell_type": "markdown",
      "source": [
        "B"
      ],
      "metadata": {
        "id": "FDA6m_MZ6M5g"
      }
    },
    {
      "cell_type": "code",
      "source": [
        "array_b = np.array([[3, -2], [1, 0]])\n",
        "eigenvalues, eigenvectors = np.linalg.eig(array_b)\n",
        "print(\"Eigenvalues:\", eigenvalues)\n",
        "print(\"Eigenvectors:\\n\", eigenvectors)\n"
      ],
      "metadata": {
        "colab": {
          "base_uri": "https://localhost:8080/"
        },
        "id": "YihOOP0s6OJb",
        "outputId": "ae414e1b-ff89-4804-cc84-e485d6d2152a"
      },
      "execution_count": 4,
      "outputs": [
        {
          "output_type": "stream",
          "name": "stdout",
          "text": [
            "Eigenvalues: [2. 1.]\n",
            "Eigenvectors:\n",
            " [[0.89442719 0.70710678]\n",
            " [0.4472136  0.70710678]]\n"
          ]
        }
      ]
    },
    {
      "cell_type": "markdown",
      "source": [
        "C"
      ],
      "metadata": {
        "id": "nMyIaY5X6YsO"
      }
    },
    {
      "cell_type": "code",
      "source": [
        "array_c = np.array([[0, 1, 2], [3, 4, 5]])\n",
        "diagonal_sum = np.trace(array_c)\n",
        "print(\"Sum of diagonal elements:\", diagonal_sum)"
      ],
      "metadata": {
        "colab": {
          "base_uri": "https://localhost:8080/"
        },
        "id": "J-IS45s_6bGE",
        "outputId": "5d0865c4-d279-4fb9-bd58-81b5a3b37ef1"
      },
      "execution_count": 5,
      "outputs": [
        {
          "output_type": "stream",
          "name": "stdout",
          "text": [
            "Sum of diagonal elements: 4\n"
          ]
        }
      ]
    },
    {
      "cell_type": "markdown",
      "source": [
        "D"
      ],
      "metadata": {
        "id": "1z8XP_YS6r6e"
      }
    },
    {
      "cell_type": "code",
      "source": [
        "array_d = np.array([[1, 2], [3, 4], [5, 6]])\n",
        "reshaped_array_d = array_d.reshape(2, 3)\n",
        "print(\"Reshaped Array 3x2 to 2x3:\\n\", reshaped_array_d)"
      ],
      "metadata": {
        "colab": {
          "base_uri": "https://localhost:8080/"
        },
        "id": "KE7xnLhi6tR7",
        "outputId": "fc93e4a4-31c8-40fa-c4c5-495a5b647c7b"
      },
      "execution_count": 6,
      "outputs": [
        {
          "output_type": "stream",
          "name": "stdout",
          "text": [
            "Reshaped Array 3x2 to 2x3:\n",
            " [[1 2 3]\n",
            " [4 5 6]]\n"
          ]
        }
      ]
    }
  ]
}